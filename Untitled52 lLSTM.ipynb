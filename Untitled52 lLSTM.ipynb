{
 "cells": [
  {
   "cell_type": "code",
   "execution_count": 1,
   "id": "3bb566b3-e513-4bfb-832f-3490f00bb15c",
   "metadata": {},
   "outputs": [
    {
     "name": "stdout",
     "output_type": "stream",
     "text": [
      "Step 1: Hidden State = 0.2358, Cell State = 0.3756\n",
      "Step 2: Hidden State = 0.5132, Cell State = 0.8532\n",
      "Step 3: Hidden State = 0.7224, Cell State = 1.4309\n",
      "Step 4: Hidden State = 0.8385, Cell State = 2.0987\n",
      "Predicted Value: 1.5062\n"
     ]
    }
   ],
   "source": [
    "import numpy as np\n",
    "\n",
    "# دوال التفعيل\n",
    "def sigmoid(x):\n",
    "    return 1 / (1 + np.exp(-x))\n",
    "\n",
    "def tanh(x):\n",
    "    return np.tanh(x)\n",
    "\n",
    "# تنفيذ LSTM خطوة بخطوة\n",
    "def lstm_process(sequence, Wf, Wi, Wc, Wo, bf, bi, bc, bo, h_prev, c_prev):\n",
    "    h, c = h_prev, c_prev  # تعيين الحالة الأولية\n",
    "\n",
    "    for i, x in enumerate(sequence):\n",
    "        # حساب بوابات LSTM\n",
    "        forget_gate = sigmoid(Wf * x + bf)  # بوابة النسيان\n",
    "        input_gate = sigmoid(Wi * x + bi)   # بوابة الإدخال\n",
    "        candidate_cell = tanh(Wc * x + bc)  # الحالة المرشحة للخلايا\n",
    "        c = forget_gate * c + input_gate * candidate_cell  # تحديث حالة الخلايا\n",
    "        output_gate = sigmoid(Wo * x + bo)  # بوابة الإخراج\n",
    "        h = output_gate * tanh(c)  # تحديث الحالة المخفية\n",
    "\n",
    "        print(f\"Step {i+1}: Hidden State = {h:.4f}, Cell State = {c:.4f}\")\n",
    "    \n",
    "    return h  # إرجاع الحالة المخفية الأخيرة\n",
    "\n",
    "# المدخلات\n",
    "sequence = [1, 2, 3, 4]  \n",
    "\n",
    "# أوزان و إزاحات عشوائية\n",
    "Wf, Wi, Wc, Wo = 0.5, 0.45, 0.35, 0.4  \n",
    "bf, bi, bc, bo = 0.1, 0.2, 0.3, 0.25  \n",
    "h0, c0 = 0, 0  # الحالة الأولية\n",
    "\n",
    "# تنفيذ الشبكة\n",
    "final_hidden = lstm_process(sequence, Wf, Wi, Wc, Wo, bf, bi, bc, bo, h0, c0)\n",
    "\n",
    "# توقع المخرجات النهائية\n",
    "W_output, b_output = 1.2, 0.5\n",
    "predicted_value = W_output * final_hidden + b_output\n",
    "\n",
    "print(f\"Predicted Value: {predicted_value:.4f}\")\n"
   ]
  },
  {
   "cell_type": "code",
   "execution_count": null,
   "id": "691653c5-03f9-490a-9885-09d67776ad59",
   "metadata": {},
   "outputs": [],
   "source": []
  }
 ],
 "metadata": {
  "kernelspec": {
   "display_name": "Python 3 (ipykernel)",
   "language": "python",
   "name": "python3"
  },
  "language_info": {
   "codemirror_mode": {
    "name": "ipython",
    "version": 3
   },
   "file_extension": ".py",
   "mimetype": "text/x-python",
   "name": "python",
   "nbconvert_exporter": "python",
   "pygments_lexer": "ipython3",
   "version": "3.12.7"
  }
 },
 "nbformat": 4,
 "nbformat_minor": 5
}
